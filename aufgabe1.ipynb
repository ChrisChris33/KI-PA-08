{
 "cells": [
  {
   "cell_type": "markdown",
   "id": "f0400fe7-1e50-481d-bb7e-62f2c126d4c2",
   "metadata": {},
   "source": [
    "# Aufgabe 1 - Akku-Abenteuer: Tobi's Optimale Routenplanung"
   ]
  },
  {
   "cell_type": "markdown",
   "id": "e59687f3-c461-4f6e-a898-d023cdc8c67c",
   "metadata": {},
   "source": [
    "Den Code immer nachvollziehbar kommentieren! Bitte beachtet, dass das Notebook von Anfang bis Ende ohne Fehler durchlaufen muss und dass die requirements.txt Datei aktualisiert wird. "
   ]
  },
  {
   "cell_type": "markdown",
   "id": "ec5f0020-55eb-4023-a883-90ac6206cfb3",
   "metadata": {},
   "source": [
    "## Teilaufgabe a): lageplan.png laden und verarbeiten"
   ]
  },
  {
   "cell_type": "code",
   "execution_count": 1,
   "id": "2c91f492-e05c-4a7f-9a1c-8674e2ed71d4",
   "metadata": {},
     "output_type": "error",
   "outputs": [],
   "source": [
    "from matplotlib import image as mpimg\n",
    "import numpy as np\n",
    "\n",
    "# load picture\n",
    "tempPlan = mpimg.imread(\"lageplanKleiner.png\")\n",
    "#Form: (21,21,4) - rows, columns, Array mit den vier Farbwerten (r,g,b,alpha)\n",
    "\n",
    "tempPlan = np.around(tempPlan,2) #Runde alle Elemente der Matrix auf zwei Nachkommastellen\n",
    "\n",
    "plan = [[0 for x in range(21)] for y in range(21)] #Erstelle 21 x 21 Matrix und initializiere mit 0\n",
    "\n",
    "#Neuer Array plan enthält die selbe Info wie tempPlan, nur dass hier die Farben als String stehen. Außerdem ist die Matrix transponiert,\n",
    "#damit die Koordinaten gleich den Koordinaten der Abbildung sind.\n",
    "for m in range(21):\n",
    "    for n in range(21):\n",
    "        color = tempPlan[m][n]\n",
    "        #print(color)\n",
    "        if(color[0] == 0 and color[1] == 0 and color[2] == 0 and color[3] == 0 ):\n",
    "            plan[n][m] = \"white\"\n",
    "        elif(color[0] == 0 and color[1] == 0 and color[2] == 0 and color[3] == 1 ):\n",
    "            plan[n][m] = \"black\"\n",
    "        elif(abs(color[0] - 0.78) < 0.01 and abs(color[1] - 0.44) < 0.01 and abs(color[2] - 0.22) < 0.01 and color[3] == 1 ):\n",
    "            plan[n][m] = \"brown\"\n",
    "        elif(color[0] == 1 and color[1] == 1 and color[2] == 0 and color[3] == 1):\n",
    "            plan[n][m] = \"yellow\"\n",
    "        elif(color[0] == 0 and color[1] == 1 and color[2] == 0 and color[3] == 1):\n",
    "            plan[n][m] = \"green\"\n",
    "        elif(color[0] == 0 and color[1] == 0 and color[2] == 1 and color[3] == 1):\n",
    "            plan[n][m] = \"blue\"\n",
    "        #print(plan[n][m], end = \" \")\n",
    "    #print(\"\\n\")\n",
    "\n"
   ]
  },
  {
   "cell_type": "markdown",
   "id": "b16c6c68-033e-4d57-ba02-fc86c53f34f1",
   "metadata": {},
   "source": [
    "## Teilaufgabe b): Breitensuche"
   ]
  },
  {
   "cell_type": "code",
   "execution_count": 21,
   "id": "6a6a651b-3cb4-459b-907e-6d37f003905b",
   "metadata": {},
   "outputs": [],
   "source": [
    "#Gibt einen Array mit den Koordinaten der Nachbarn zurück. Nachbarn sind nicht diagonal. Nachbarn sind nicht schwarz oder weiß.\n",
    "#Diese Methode wird von allen nachfolgenden Algorithmen benutzt\n",
    "def getNeighbors(feld):\n",
    "    neighbors = []\n",
    "\n",
    "    #Füge alle Felder direkt neben dem Feld hinzu (nicht diagonal)\n",
    "    if(feld[0] - 1 >= 0):\n",
    "        neighbors.append([feld[0]-1,feld[1]])\n",
    "    if(feld[0] + 1 < 21):\n",
    "        neighbors.append([feld[0]+1,feld[1]])\n",
    "    if(feld[1] - 1 >= 0):\n",
    "        neighbors.append([feld[0],feld[1]-1])\n",
    "    if(feld[1] + 1 < 21):\n",
    "        neighbors.append([feld[0],feld[1]+1])\n",
    "\n",
    "    #Lösche alle Nachbarn, die schwarz oder weiß sind\n",
    "    for i in reversed(range(len(neighbors))):\n",
    "        color = plan[neighbors[i][0]][ neighbors[i][1]]\n",
    "        if(color == \"black\" or color == \"white\"):\n",
    "            neighbors.pop(i)\n",
    "    \n",
    "    return neighbors"
   ]
  },
  {
   "cell_type": "code",
   "execution_count": 24,
   "id": "3f484794-3ab2-4edf-84e4-8debf29b1d57",
   "metadata": {},
   "outputs": [
    {
     "name": "stdout",
     "output_type": "stream",
     "text": [
      "Weg zum Ziel:  [1, 3] <- [1, 4] <- [1, 5] <- [1, 6] <- [1, 7] <- [2, 7] <- [3, 7] <- [3, 8] <- [3, 9] <- [3, 10] <- [3, 11] <- [3, 12] <- [3, 13] <- [2, 13] <- [1, 13] <- [1, 14] <- [1, 15] <- [1, 16] <- [1, 17] <- [2, 17] <- [3, 17] <- "
     ]
    }
   ],
   "source": [
    "#start und ziel sind arrays mit Länge = 2\n",
    "def breitensuche (start, ziel):\n",
    "    # 21 x 21 Matrix. Enthält den jeweiligen Vorgängerknoten. Wird mit [-1,-1] initialisiert. Ein Eintrag != [-1,-1] bedeutet, dass der Knoten schon \n",
    "    # besucht wurde. Dann kann sofort zurückgesprungen werden.\n",
    "    viewed = [[[-1,-1] for x in range(21)] for y in range(21)] \n",
    "\n",
    "    # Vorgänger des Startknotens wird auf einen einzigartigen erkennbaren Wert gesetzt: [25,25]\n",
    "    viewed[start[0]][start[1]] = [25,25]\n",
    "    \n",
    "    queue = [start]\n",
    "\n",
    "    while len(queue) > 0:\n",
    "        node = queue.pop(0)\n",
    "        #print(\"Aktuelle Node: \",node)\n",
    "        \n",
    "        if(node == ziel):\n",
    "            print (\"Weg zum Ziel: \",ziel, end = \" <- \")\n",
    "            prodecessor = viewed[node[0]][node[1]]\n",
    "            while(prodecessor != [25,25]):\n",
    "                print(prodecessor, end = \" <- \")\n",
    "                prodecessor = viewed[prodecessor[0]][prodecessor[1]]\n",
    "                \n",
    "            break\n",
    "\n",
    "        neighbors = getNeighbors(node)\n",
    "        for i in range(len(neighbors)):\n",
    "            neighbor = neighbors[i]\n",
    "            if(viewed[neighbor[0]][neighbor[1]] != [-1,-1]): #Breche ab, falls Nachbarfeld schon angeschaut wurde\n",
    "                continue\n",
    "            viewed[neighbor[0]][neighbor[1]] = node\n",
    "            queue.append(neighbor)\n",
    "\n",
    "breitensuche([3,17],[1,3])"
   ]
  },
  {
   "cell_type": "markdown",
   "id": "2bb17fba-193f-4873-a631-7a902bb54675",
   "metadata": {},
   "source": [
    "## Teilaufgabe c): A*-Algorithmus"
   ]
  },
  {
   "cell_type": "code",
   "execution_count": 19,
   "id": "3603e735-a26a-449d-b5a7-b6fb6288fb23",
   "metadata": {},
   "outputs": [],
   "source": [
    "#Genutzte Heuristik: Manhatten Metrik\n",
    "    \n",
    "#Knotenklasse. Wird in allen nachfolgenden Algorithmen genutzt\n",
    "class Node:\n",
    "    def __init__(self, coords, prodecessor, goal):\n",
    "        self.coords = coords\n",
    "        self.prodecessor = prodecessor\n",
    "\n",
    "        #Manhatten-Metrik\n",
    "        n1 = coords\n",
    "        n2 = goal\n",
    "        self.h = abs(n1[0]-n2[0]) + abs(n1[1]-n2[1])\n",
    "\n",
    "        #Alles Folgende wird nur von A* genutzt:\n",
    "\n",
    "        #Bestimme Kantenkosten (Kosten aller Kanten, die zu diesem Knoten zeigen)\n",
    "        self.kantenkosten = 0\n",
    "        #Die durch getNeighbors zurückgegebenen Knoten können weder weiß noch schwarz sein. Somit können wir die hier auslassen.\n",
    "        color = plan[coords[0]][coords[1]]\n",
    "        if(color == \"brown\"):\n",
    "            kantenkosten = 2\n",
    "        elif(color == \"blue\"): \n",
    "            kantenkosten = 3\n",
    "        elif(color == \"green\"):\n",
    "            kantenkosten = 4\n",
    "        elif(color == \"yellow\"):\n",
    "            kantenkosten = 5\n",
    "            \n",
    "        if(prodecessor == None):\n",
    "            self.g = 0\n",
    "        else:\n",
    "            self.g = prodecessor.g + self.kantenkosten\n",
    "            \n",
    "        self.f = self.h + self.g   "
   ]
  },
  {
   "cell_type": "code",
   "execution_count": 33,
   "id": "9569d171-6ea9-4a8d-8c88-80210669ef7e",
   "metadata": {},
   "outputs": [
    {
     "name": "stdout",
     "output_type": "stream",
     "text": [
      "Weg zum Ziel:  [1, 3] <- [1, 4] <- [1, 5] <- [1, 6] <- [1, 7] <- [2, 7] <- [3, 7] <- [3, 8] <- [3, 9] <- [3, 10] <- [3, 11] <- [3, 12] <- [3, 13] <- [2, 13] <- [1, 13] <- [1, 14] <- [1, 15] <- [1, 16] <- [1, 17] <- [2, 17] <- [3, 17] <- "
     ]
    }
   ],
   "source": [
    "#start und ziel sind arrays mit Länge = 2\n",
    "def aStar (start, ziel):\n",
    "    \n",
    "    #Start Node ohne Vorgänger\n",
    "    startNode = Node(start,None,ziel)\n",
    "    \n",
    "    #Enthält alle bereits expandierten Knoten\n",
    "    closedList = []\n",
    "\n",
    "    #Liste der besuchten, aber noch nicht expandierten Knoten\n",
    "    openList = [startNode]\n",
    "    \n",
    "    while len(openList) > 0:\n",
    "        #Bringe den Knoten mit der besten Abschätzung f = g + h nach vorne\n",
    "        openList = sorted(openList, key=lambda x: x.f)\n",
    "        \n",
    "        #Nehme den Knoten mit der besten Abschätzung und entferne ihn aus der Liste\n",
    "        node = openList.pop(0)\n",
    "        \n",
    "        #print(\"Aktuelle Node: \",node)\n",
    "        \n",
    "        if(node.coords == ziel):\n",
    "            print (\"Weg zum Ziel: \",ziel, end = \" <- \")\n",
    "            prodecessor = node.prodecessor\n",
    "            while(prodecessor != None):\n",
    "                print(prodecessor.coords, end = \" <- \")\n",
    "                prodecessor = prodecessor.prodecessor\n",
    "                \n",
    "            break\n",
    "\n",
    "        #Füge Nachbarn in die openList ein, falls diese nicht in der closedList sind.\n",
    "        neighbors = getNeighbors(node.coords)\n",
    "        for i in range(len(neighbors)):\n",
    "            neighborCoords = neighbors[i]\n",
    "            if(neighborCoords in closedList): #Breche ab, falls Nachbarfeld schon angeschaut und expandiert wurde\n",
    "                continue\n",
    "\n",
    "            #Breche ab, falls Nachbarfeld schon angeschaut wurde oder vorherige Kantenkosten überschritten werden\n",
    "            neighborNode = Node(neighborCoords, node, ziel)\n",
    "            if(isInOpenListOrWorse(neighborNode, openList)): \n",
    "                continue\n",
    "                \n",
    "            openList.append(neighborNode)\n",
    "\n",
    "        closedList.append(node.coords)\n",
    "\n",
    "# Gibt True zurück, wenn Knoten nicht in der openList ist oder wenn vorherigen Kantenkosten unterschritten werden\n",
    "def isInOpenListOrWorse(neighborNode, openList):\n",
    "    for node in openList:\n",
    "        if node.coords == neighborNode.coords:\n",
    "            if node.g <= neighborNode.g:\n",
    "                return True\n",
    "            else:\n",
    "                openList.remove(node)\n",
    "    return False\n",
    "\n",
    "aStar([3,17],[1,3])\n",
    "    "
   ]
  },
  {
   "cell_type": "markdown",
   "id": "51e14a88-cf54-40a0-b118-05e243e0b995",
   "metadata": {
    "tags": []
   },
   "source": [
    "## Teilaufgabe d): Greedy Best First Search-Algorithmus"
   ]
  },
  {
   "cell_type": "code",
   "execution_count": 32,
   "id": "65263759-2c02-43f0-b756-c8f8ad77b75e",
   "metadata": {},
   "outputs": [
    {
     "name": "stdout",
     "output_type": "stream",
     "text": [
      "Weg zum Ziel:  [1, 3] <- [1, 4] <- [1, 5] <- [1, 6] <- [1, 7] <- [2, 7] <- [3, 7] <- [3, 8] <- [3, 9] <- [3, 10] <- [3, 11] <- [3, 12] <- [3, 13] <- [2, 13] <- [1, 13] <- [1, 14] <- [1, 15] <- [1, 16] <- [1, 17] <- [2, 17] <- [3, 17] <- "
     ]
    }
   ],
   "source": [
    "#start und ziel sind arrays mit Länge = 2\n",
    "def greedy (start, ziel):\n",
    "    \n",
    "    #Start Node ohne Vorgänger\n",
    "    startNode = Node(start,None,ziel)\n",
    "    \n",
    "    #Enthält alle bereits expandierten Knoten\n",
    "    closedList = []\n",
    "    \n",
    "    #Liste der besuchten, aber noch nicht expandierten Knoten\n",
    "    openList = [startNode]\n",
    "    \n",
    "    while len(openList) > 0:\n",
    "        #Bringe den Knoten mit der besten Schätzung h nach vorne\n",
    "        openList = sorted(openList, key=lambda x: x.h)\n",
    "        \n",
    "        #Nehme den Knoten mit der besten Schätzung und entferne ihn aus der Liste\n",
    "        node = openList.pop(0)\n",
    "        \n",
    "        #print(\"Aktuelle Node: \",node)\n",
    "        \n",
    "        if(node.coords == ziel):\n",
    "            print (\"Weg zum Ziel: \",ziel, end = \" <- \")\n",
    "            prodecessor = node.prodecessor\n",
    "            while(prodecessor != None):\n",
    "                print(prodecessor.coords, end = \" <- \")\n",
    "                prodecessor = prodecessor.prodecessor\n",
    "                \n",
    "            break\n",
    "\n",
    "        #Füge Nachbarn in die openList ein, falls diese nicht in der closedList sind.\n",
    "        neighbors = getNeighbors(node.coords)\n",
    "        for i in range(len(neighbors)):\n",
    "            neighborCoords = neighbors[i]\n",
    "            if(neighborCoords in closedList): #Breche ab, falls Nachbarfeld schon angeschaut und expandiert wurde\n",
    "                continue\n",
    "            if(isInOpenList(neighborCoords, openList)): #Breche ab, falls Nachbarfeld schon angeschaut wurde.\n",
    "                continue\n",
    "            neighborNode = Node(neighborCoords, node, ziel)\n",
    "            openList.append(neighborNode)\n",
    "\n",
    "        closedList.append(node.coords)\n",
    "\n",
    "# nodeCoords ist ein Array\n",
    "def isInOpenList(nodeCoords, openList):\n",
    "    for node in openList:\n",
    "        if node.coords == nodeCoords:\n",
    "            return True\n",
    "    return False\n",
    "    \n",
    "\n",
    "greedy([3,17],[1,3])\n",
    "    "
   ]
  },
  {
   "cell_type": "markdown",
   "id": "ba0cffb4-b4dd-4df8-b7d5-f2f98c8a698b",
   "metadata": {
    "tags": []
   },
   "source": [
    "## Teilaufgabe e): Dusseliger Doktorand"
   ]
  },
  {
   "cell_type": "code",
   "execution_count": 36,
   "id": "4a72c1da-07de-4252-a4a9-b373918b1cf2",
   "metadata": {},
   "outputs": [],
   "source": [
    "# Da nur die Kantengewichtung geändert wird, muss nur c) abgeändert werden. d) benutzt ausschließlich die Heuristik.\n",
    "# Es muss nur die Berechnung der Kantenkosten in der Node Klasse geändert werden. \n",
    "\n",
    "class NodeE:\n",
    "    def __init__(self, coords, prodecessor, goal):\n",
    "        self.coords = coords\n",
    "        self.prodecessor = prodecessor\n",
    "\n",
    "        #Manhatten-Metrik\n",
    "        n1 = coords\n",
    "        n2 = goal\n",
    "        self.h = abs(n1[0]-n2[0]) + abs(n1[1]-n2[1])\n",
    "\n",
    "        #Alles Folgende wird nur von A* genutzt:\n",
    "\n",
    "        if(prodecessor == None):\n",
    "            self.g = 0\n",
    "        else:\n",
    "            #Bestimme Kantenkosten (Kosten aller Kanten, die zu diesem Knoten zeigen)\n",
    "            self.kantenkosten = 0\n",
    "            \n",
    "            #Die durch getNeighbors zurückgegebenen Knoten können weder weiß noch schwarz sein. Somit können wir die hier auslassen.\n",
    "            color = plan[coords[0]][coords[1]]\n",
    "            if(color == \"brown\"):\n",
    "                self.kantenkosten = 2\n",
    "            elif(color == \"blue\"): \n",
    "                self.kantenkosten = 3\n",
    "            elif(color == \"green\"):\n",
    "                self.kantenkosten = 4\n",
    "            elif(color == \"yellow\"):\n",
    "                self.kantenkosten = 5\n",
    "    \n",
    "            if(coords[0] == 3 and prodecessor.coords[0] == 3):\n",
    "                if(coords[1] < 15 and coords[1] > 2 and prodecessor.coords[1] < 15 and prodecessor.coords[1] > 2):\n",
    "                    self.kantenkosten = 20\n",
    "            \n",
    "            self.g = prodecessor.g + self.kantenkosten\n",
    "            \n",
    "        self.f = self.h + self.g   \n"
   ]
  },
  {
   "cell_type": "code",
   "execution_count": 37,
   "id": "4e7da561-1cc1-4ea9-bb3e-c05d5d3f45ae",
   "metadata": {},
   "outputs": [
    {
     "name": "stdout",
     "output_type": "stream",
     "text": [
      "Weg zum Ziel:  [1, 3] <- [2, 3] <- [3, 3] <- [3, 2] <- [3, 1] <- [4, 1] <- [5, 1] <- [6, 1] <- [7, 1] <- [8, 1] <- [9, 1] <- [10, 1] <- [11, 1] <- [12, 1] <- [13, 1] <- [14, 1] <- [15, 1] <- [16, 1] <- [17, 1] <- [18, 1] <- [19, 1] <- [19, 2] <- [19, 3] <- [19, 4] <- [19, 5] <- [19, 6] <- [19, 7] <- [19, 8] <- [19, 9] <- [19, 10] <- [19, 11] <- [19, 12] <- [19, 13] <- [19, 14] <- [18, 14] <- [17, 14] <- [16, 14] <- [15, 14] <- [14, 14] <- [13, 14] <- [12, 14] <- [11, 14] <- [10, 14] <- [9, 14] <- [8, 14] <- [7, 14] <- [6, 14] <- [5, 14] <- [5, 15] <- [5, 16] <- [4, 16] <- [3, 16] <- [3, 17] <- "
     ]
    }
   ],
   "source": [
    "#A* Suche von oben kopiert und Node mit NodeE ausgetauscht\n",
    "\n",
    "\n",
    "#start und ziel sind arrays mit Länge = 2\n",
    "def aStarE (start, ziel):\n",
    "    \n",
    "    #Start Node ohne Vorgänger\n",
    "    startNode = NodeE(start,None,ziel)\n",
    "    \n",
    "    #Enthält alle bereits expandierten Knoten\n",
    "    closedList = []\n",
    "\n",
    "    #Liste der besuchten, aber noch nicht expandierten Knoten\n",
    "    openList = [startNode]\n",
    "    \n",
    "    while len(openList) > 0:\n",
    "        #Bringe den Knoten mit der besten Abschätzung f = g + h nach vorne\n",
    "        openList = sorted(openList, key=lambda x: x.f)\n",
    "        \n",
    "        #Nehme den Knoten mit der besten Abschätzung und entferne ihn aus der Liste\n",
    "        node = openList.pop(0)\n",
    "        \n",
    "        #print(\"Aktuelle Node: \",node)\n",
    "        \n",
    "        if(node.coords == ziel):\n",
    "            print (\"Weg zum Ziel: \",ziel, end = \" <- \")\n",
    "            prodecessor = node.prodecessor\n",
    "            while(prodecessor != None):\n",
    "                print(prodecessor.coords, end = \" <- \")\n",
    "                prodecessor = prodecessor.prodecessor\n",
    "                \n",
    "            break\n",
    "\n",
    "        #Füge Nachbarn in die openList ein, falls diese nicht in der closedList sind.\n",
    "        neighbors = getNeighbors(node.coords)\n",
    "        for i in range(len(neighbors)):\n",
    "            neighborCoords = neighbors[i]\n",
    "            if(neighborCoords in closedList): #Breche ab, falls Nachbarfeld schon angeschaut und expandiert wurde\n",
    "                continue\n",
    "\n",
    "            #Breche ab, falls Nachbarfeld schon angeschaut wurde oder vorherige Kantenkosten überschritten werden\n",
    "            neighborNode = NodeE(neighborCoords, node, ziel)\n",
    "            if(isInOpenListOrWorse(neighborNode, openList)): \n",
    "                continue\n",
    "                \n",
    "            openList.append(neighborNode)\n",
    "\n",
    "        closedList.append(node.coords)\n",
    "\n",
    "aStarE([3,17],[1,3])"
   ]
  },
  {
   "cell_type": "code",
   "execution_count": null,
   "id": "297e4ba1-0e62-4a51-8524-167b4d677f30",
   "metadata": {},
   "outputs": [],
   "source": []
  }
 ],
 "metadata": {
  "kernelspec": {
   "display_name": "Python 3 (ipykernel)",
   "language": "python",
   "name": "python3"
  },
  "language_info": {
   "codemirror_mode": {
    "name": "ipython",
    "version": 3
   },
   "file_extension": ".py",
   "mimetype": "text/x-python",
   "name": "python",
   "nbconvert_exporter": "python",
   "pygments_lexer": "ipython3",
   "version": "3.9.19"
  }
 },
 "nbformat": 4,
 "nbformat_minor": 5
}
