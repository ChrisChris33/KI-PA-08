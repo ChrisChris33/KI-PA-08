{
 "cells": [
  {
   "cell_type": "markdown",
   "id": "f0400fe7-1e50-481d-bb7e-62f2c126d4c2",
   "metadata": {},
   "source": [
    "# Aufgabe 1 - Akku-Abenteuer: Tobi's Optimale Routenplanung"
   ]
  },
  {
   "cell_type": "markdown",
   "id": "e59687f3-c461-4f6e-a898-d023cdc8c67c",
   "metadata": {},
   "source": [
    "Den Code immer nachvollziehbar kommentieren! Bitte beachtet, dass das Notebook von Anfang bis Ende ohne Fehler durchlaufen muss und dass die requirements.txt Datei aktualisiert wird. "
   ]
  },
  {
   "cell_type": "markdown",
   "id": "ec5f0020-55eb-4023-a883-90ac6206cfb3",
   "metadata": {},
   "source": [
    "## Teilaufgabe a): lageplan.png laden und verarbeiten"
   ]
  },
  {
   "cell_type": "code",
   "execution_count": 82,
   "id": "2c91f492-e05c-4a7f-9a1c-8674e2ed71d4",
   "metadata": {},
   "outputs": [
    {
     "ename": "FileNotFoundError",
     "evalue": "[Errno 2] No such file or directory: 'lageplanKleiner.png'",
     "output_type": "error",
     "traceback": [
      "\u001b[1;31m---------------------------------------------------------------------------\u001b[0m",
      "\u001b[1;31mFileNotFoundError\u001b[0m                         Traceback (most recent call last)",
      "Cell \u001b[1;32mIn[82], line 5\u001b[0m\n\u001b[0;32m      2\u001b[0m \u001b[38;5;28;01mimport\u001b[39;00m \u001b[38;5;21;01mnumpy\u001b[39;00m \u001b[38;5;28;01mas\u001b[39;00m \u001b[38;5;21;01mnp\u001b[39;00m\n\u001b[0;32m      4\u001b[0m \u001b[38;5;66;03m# load picture\u001b[39;00m\n\u001b[1;32m----> 5\u001b[0m tempPlan \u001b[38;5;241m=\u001b[39m \u001b[43mmpimg\u001b[49m\u001b[38;5;241;43m.\u001b[39;49m\u001b[43mimread\u001b[49m\u001b[43m(\u001b[49m\u001b[38;5;124;43m\"\u001b[39;49m\u001b[38;5;124;43mlageplanKleiner.png\u001b[39;49m\u001b[38;5;124;43m\"\u001b[39;49m\u001b[43m)\u001b[49m\n\u001b[0;32m      6\u001b[0m \u001b[38;5;66;03m#Form: (21,21,4) - rows, columns, Array mit den vier Farbwerten (r,g,b,alpha)\u001b[39;00m\n\u001b[0;32m      8\u001b[0m tempPlan \u001b[38;5;241m=\u001b[39m np\u001b[38;5;241m.\u001b[39maround(tempPlan,\u001b[38;5;241m2\u001b[39m) \u001b[38;5;66;03m#Runde alle Elemente der Matrix auf zwei Nachkommastellen\u001b[39;00m\n",
      "File \u001b[1;32m~\\miniconda3\\envs\\ersteUmgebung\\lib\\site-packages\\matplotlib\\image.py:1525\u001b[0m, in \u001b[0;36mimread\u001b[1;34m(fname, format)\u001b[0m\n\u001b[0;32m   1518\u001b[0m \u001b[38;5;28;01mif\u001b[39;00m \u001b[38;5;28misinstance\u001b[39m(fname, \u001b[38;5;28mstr\u001b[39m) \u001b[38;5;129;01mand\u001b[39;00m \u001b[38;5;28mlen\u001b[39m(parse\u001b[38;5;241m.\u001b[39murlparse(fname)\u001b[38;5;241m.\u001b[39mscheme) \u001b[38;5;241m>\u001b[39m \u001b[38;5;241m1\u001b[39m:\n\u001b[0;32m   1519\u001b[0m     \u001b[38;5;66;03m# Pillow doesn't handle URLs directly.\u001b[39;00m\n\u001b[0;32m   1520\u001b[0m     \u001b[38;5;28;01mraise\u001b[39;00m \u001b[38;5;167;01mValueError\u001b[39;00m(\n\u001b[0;32m   1521\u001b[0m         \u001b[38;5;124m\"\u001b[39m\u001b[38;5;124mPlease open the URL for reading and pass the \u001b[39m\u001b[38;5;124m\"\u001b[39m\n\u001b[0;32m   1522\u001b[0m         \u001b[38;5;124m\"\u001b[39m\u001b[38;5;124mresult to Pillow, e.g. with \u001b[39m\u001b[38;5;124m\"\u001b[39m\n\u001b[0;32m   1523\u001b[0m         \u001b[38;5;124m\"\u001b[39m\u001b[38;5;124m``np.array(PIL.Image.open(urllib.request.urlopen(url)))``.\u001b[39m\u001b[38;5;124m\"\u001b[39m\n\u001b[0;32m   1524\u001b[0m         )\n\u001b[1;32m-> 1525\u001b[0m \u001b[38;5;28;01mwith\u001b[39;00m \u001b[43mimg_open\u001b[49m\u001b[43m(\u001b[49m\u001b[43mfname\u001b[49m\u001b[43m)\u001b[49m \u001b[38;5;28;01mas\u001b[39;00m image:\n\u001b[0;32m   1526\u001b[0m     \u001b[38;5;28;01mreturn\u001b[39;00m (_pil_png_to_float_array(image)\n\u001b[0;32m   1527\u001b[0m             \u001b[38;5;28;01mif\u001b[39;00m \u001b[38;5;28misinstance\u001b[39m(image, PIL\u001b[38;5;241m.\u001b[39mPngImagePlugin\u001b[38;5;241m.\u001b[39mPngImageFile) \u001b[38;5;28;01melse\u001b[39;00m\n\u001b[0;32m   1528\u001b[0m             pil_to_array(image))\n",
      "File \u001b[1;32m~\\miniconda3\\envs\\ersteUmgebung\\lib\\site-packages\\PIL\\ImageFile.py:125\u001b[0m, in \u001b[0;36mImageFile.__init__\u001b[1;34m(self, fp, filename)\u001b[0m\n\u001b[0;32m    121\u001b[0m \u001b[38;5;28mself\u001b[39m\u001b[38;5;241m.\u001b[39mdecodermaxblock \u001b[38;5;241m=\u001b[39m MAXBLOCK\n\u001b[0;32m    123\u001b[0m \u001b[38;5;28;01mif\u001b[39;00m is_path(fp):\n\u001b[0;32m    124\u001b[0m     \u001b[38;5;66;03m# filename\u001b[39;00m\n\u001b[1;32m--> 125\u001b[0m     \u001b[38;5;28mself\u001b[39m\u001b[38;5;241m.\u001b[39mfp \u001b[38;5;241m=\u001b[39m \u001b[38;5;28;43mopen\u001b[39;49m\u001b[43m(\u001b[49m\u001b[43mfp\u001b[49m\u001b[43m,\u001b[49m\u001b[43m \u001b[49m\u001b[38;5;124;43m\"\u001b[39;49m\u001b[38;5;124;43mrb\u001b[39;49m\u001b[38;5;124;43m\"\u001b[39;49m\u001b[43m)\u001b[49m\n\u001b[0;32m    126\u001b[0m     \u001b[38;5;28mself\u001b[39m\u001b[38;5;241m.\u001b[39mfilename \u001b[38;5;241m=\u001b[39m fp\n\u001b[0;32m    127\u001b[0m     \u001b[38;5;28mself\u001b[39m\u001b[38;5;241m.\u001b[39m_exclusive_fp \u001b[38;5;241m=\u001b[39m \u001b[38;5;28;01mTrue\u001b[39;00m\n",
      "\u001b[1;31mFileNotFoundError\u001b[0m: [Errno 2] No such file or directory: 'lageplanKleiner.png'"
     ]
    }
   ],
   "source": [
    "from matplotlib import image as mpimg\n",
    "import numpy as np\n",
    "\n",
    "# load picture\n",
    "tempPlan = mpimg.imread(\"lageplanKleiner.png\")\n",
    "#Form: (21,21,4) - rows, columns, Array mit den vier Farbwerten (r,g,b,alpha)\n",
    "\n",
    "tempPlan = np.around(tempPlan,2) #Runde alle Elemente der Matrix auf zwei Nachkommastellen\n",
    "\n",
    "plan = [[0 for x in range(21)] for y in range(21)] #Erstelle 21 x 21 Matrix und initializiere mit 0\n",
    "\n",
    "#Neuer Array plan enthält die selbe Info wie tempPlan, nur dass hier die Farben als String stehen. Außerdem ist die Matrix transponiert,\n",
    "#damit die Koordinaten gleich den Koordinaten der Abbildung sind.\n",
    "for m in range(21):\n",
    "    for n in range(21):\n",
    "        color = tempPlan[m][n]\n",
    "        #print(color)\n",
    "        if(color[0] == 0 and color[1] == 0 and color[2] == 0 and color[3] == 0 ):\n",
    "            plan[n][m] = \"white\"\n",
    "        elif(color[0] == 0 and color[1] == 0 and color[2] == 0 and color[3] == 1 ):\n",
    "            plan[n][m] = \"black\"\n",
    "        elif(abs(color[0] - 0.78) < 0.01 and abs(color[1] - 0.44) < 0.01 and abs(color[2] - 0.22) < 0.01 and color[3] == 1 ):\n",
    "            plan[n][m] = \"brown\"\n",
    "        elif(color[0] == 1 and color[1] == 1 and color[2] == 0 and color[3] == 1):\n",
    "            plan[n][m] = \"yellow\"\n",
    "        elif(color[0] == 0 and color[1] == 1 and color[2] == 0 and color[3] == 1):\n",
    "            plan[n][m] = \"green\"\n",
    "        elif(color[0] == 0 and color[1] == 0 and color[2] == 1 and color[3] == 1):\n",
    "            plan[n][m] = \"blue\"\n",
    "        #print(plan[n][m], end = \" \")\n",
    "    #print(\"\\n\")\n",
    "\n"
   ]
  },
  {
   "cell_type": "markdown",
   "id": "b16c6c68-033e-4d57-ba02-fc86c53f34f1",
   "metadata": {},
   "source": [
    "## Teilaufgabe b): Breitensuche"
   ]
  },
  {
   "cell_type": "code",
   "execution_count": 84,
   "id": "3f484794-3ab2-4edf-84e4-8debf29b1d57",
   "metadata": {},
   "outputs": [
    {
     "name": "stdout",
     "output_type": "stream",
     "text": [
      "Weg zum Ziel:  [1, 3] <- [1, 4] <- [1, 5] <- [1, 6] <- [1, 7] <- [2, 7] <- [3, 7] <- [3, 8] <- [3, 9] <- [3, 10] <- [3, 11] <- [3, 12] <- [3, 13] <- [2, 13] <- [1, 13] <- [1, 14] <- [1, 15] <- [1, 16] <- [1, 17] <- [2, 17] <- [3, 17] <- "
     ]
    }
   ],
   "source": [
    "#start und ziel sind arrays mit Länge = 2\n",
    "def breitensuche (start, ziel):\n",
    "    # 21 x 21 Matrix. Enthält den jeweiligen Vorgängerknoten. Wird mit [-1,-1] initialisiert.\n",
    "    viewed = [[[-1,-1] for x in range(21)] for y in range(21)] \n",
    "\n",
    "    # Startknoten wird auf einen einzigartigen erkennbaren Wert gesetzt: [25,25]\n",
    "    viewed[start[0]][start[1]] = [25,25]\n",
    "    \n",
    "    queue = [start]\n",
    "\n",
    "    while len(queue) > 0:\n",
    "        feld = queue.pop(0)\n",
    "        #print(\"Aktuelles Feld: \",feld)\n",
    "        \n",
    "        if(feld == ziel):\n",
    "            print (\"Weg zum Ziel: \",ziel, end = \" <- \")\n",
    "            prodecessor = viewed[feld[0]][feld[1]]\n",
    "            while(prodecessor != [25,25]):\n",
    "                print(prodecessor, end = \" <- \")\n",
    "                prodecessor = viewed[prodecessor[0]][prodecessor[1]]\n",
    "                \n",
    "            break\n",
    "\n",
    "        neighbors = getNeighbors(feld)\n",
    "        for i in range(len(neighbors)):\n",
    "            neighbor = neighbors[i]\n",
    "            if(viewed[neighbor[0]][neighbor[1]] != [-1,-1]): #Breche ab, falls Nachbarfeld schon angeschaut wurde\n",
    "                continue\n",
    "            viewed[neighbor[0]][neighbor[1]] = feld\n",
    "            queue.append(neighbor)\n",
    "\n",
    "def getNeighbors(feld):\n",
    "    neighbors = []\n",
    "\n",
    "    #Füge alle Felder direkt neben dem Feld hinzu (nicht diagonal)\n",
    "    if(feld[0] - 1 >= 0):\n",
    "        neighbors.append([feld[0]-1,feld[1]])\n",
    "    if(feld[0] + 1 < 21):\n",
    "        neighbors.append([feld[0]+1,feld[1]])\n",
    "    if(feld[1] - 1 >= 0):\n",
    "        neighbors.append([feld[0],feld[1]-1])\n",
    "    if(feld[1] + 1 < 21):\n",
    "        neighbors.append([feld[0],feld[1]+1])\n",
    "\n",
    "    #Lösche alle Nachbarn, die schwarz oder weiß sind\n",
    "    for i in reversed(range(len(neighbors))):\n",
    "        color = plan[neighbors[i][0]][ neighbors[i][1]]\n",
    "        if(color == \"black\" or color == \"white\"):\n",
    "            neighbors.pop(i)\n",
    "    \n",
    "    return neighbors\n",
    "\n",
    "breitensuche([3,17],[1,3])"
   ]
  },
  {
   "cell_type": "markdown",
   "id": "2bb17fba-193f-4873-a631-7a902bb54675",
   "metadata": {},
   "source": [
    "## Teilaufgabe c): A*-Algorithmus"
   ]
  },
  {
   "cell_type": "code",
   "execution_count": null,
   "id": "9569d171-6ea9-4a8d-8c88-80210669ef7e",
   "metadata": {},
   "outputs": [],
   "source": []
  },
  {
   "cell_type": "markdown",
   "id": "51e14a88-cf54-40a0-b118-05e243e0b995",
   "metadata": {
    "tags": []
   },
   "source": [
    "## Teilaufgabe d): Greedy Best First Search-Algorithmus"
   ]
  },
  {
   "cell_type": "code",
   "execution_count": null,
   "id": "65263759-2c02-43f0-b756-c8f8ad77b75e",
   "metadata": {},
   "outputs": [],
   "source": []
  },
  {
   "cell_type": "markdown",
   "id": "ba0cffb4-b4dd-4df8-b7d5-f2f98c8a698b",
   "metadata": {
    "tags": []
   },
   "source": [
    "## Teilaufgabe e): Dusseliger Doktorand"
   ]
  },
  {
   "cell_type": "code",
   "execution_count": null,
   "id": "4a72c1da-07de-4252-a4a9-b373918b1cf2",
   "metadata": {},
   "outputs": [],
   "source": []
  }
 ],
 "metadata": {
  "kernelspec": {
   "display_name": "Python 3 (ipykernel)",
   "language": "python",
   "name": "python3"
  },
  "language_info": {
   "codemirror_mode": {
    "name": "ipython",
    "version": 3
   },
   "file_extension": ".py",
   "mimetype": "text/x-python",
   "name": "python",
   "nbconvert_exporter": "python",
   "pygments_lexer": "ipython3",
   "version": "3.9.19"
  }
 },
 "nbformat": 4,
 "nbformat_minor": 5
}
